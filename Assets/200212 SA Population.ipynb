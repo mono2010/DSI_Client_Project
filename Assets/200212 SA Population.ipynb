{
 "cells": [
  {
   "cell_type": "code",
   "execution_count": null,
   "metadata": {},
   "outputs": [],
   "source": [
    "import numpy as np\n",
    "import pywt\n",
    "import pywt.data\n",
    "from skimage import data, color\n",
    "from skimage.transform import rescale, resize, downscale_local_mean\n",
    "import itertools as it\n",
    "import matplotlib as mpl\n",
    "import matplotlib.pyplot as plt\n",
    "import matplotlib.image as mpimg\n",
    "import matplotlib.gridspec as gridspec\n",
    "from matplotlib import cm\n",
    "from matplotlib.colors import ListedColormap, LinearSegmentedColormap\n",
    "import os \n",
    "from PIL import Image\n",
    "Image.MAX_IMAGE_PIXELS = 900_000_000\n",
    "import pandas as pd\n",
    "from sklearn.preprocessing import StandardScaler\n",
    "from sklearn.metrics import silhouette_score\n",
    "from sklearn.datasets import load_iris, load_wine\n",
    "from sklearn.cluster import DBSCAN\n",
    "import seaborn as sns\n",
    "from collections import Counter\n",
    "import zipfile \n",
    "import urllib.request\n",
    "import random\n",
    "import functools as fct\n",
    "import math as mt\n",
    "import rasterio\n",
    "import rasterio.features\n",
    "import rasterio.warp"
   ]
  },
  {
   "cell_type": "code",
   "execution_count": null,
   "metadata": {},
   "outputs": [],
   "source": [
    "dataset = rasterio.open('../zaf_ppp_2019.tif')\n",
    "band1 = dataset.read(1)"
   ]
  },
  {
   "cell_type": "code",
   "execution_count": null,
   "metadata": {},
   "outputs": [],
   "source": [
    "Counter(np.ndarray.flatten(band1))"
   ]
  },
  {
   "cell_type": "code",
   "execution_count": null,
   "metadata": {},
   "outputs": [],
   "source": [
    "# ACQUIRE COUNTRY-WIDE POPULATION-DENSITY MAP. \n",
    "# Our procedure comes from StackOverflow:\n",
    "#         https://discuss.analyticsvidhya.com/t/how-to-read-zip-file-directly-in-python/1659\n",
    "# \n",
    "urllib.request.urlretrieve('https://data.humdata.org/dataset/cbfc4206-35c8-42d4-a096-b2dd0aec983d/resource/1b7e9361-651a-4bf2-839b-eaf5c5f45ec1/download/population_zaf_2018-10-01.csv.zip',\n",
    "                           'sa_pop.zip')\n",
    "sa_pop_zip = zipfile.ZipFile('sa_pop.zip')\n",
    "sa_pop_csv = pd.read_csv(filepath_or_buffer = sa_pop_zip.open('population_zaf_2018-10-01.csv'))"
   ]
  },
  {
   "cell_type": "code",
   "execution_count": null,
   "metadata": {},
   "outputs": [],
   "source": [
    "sa_pop_csv.describe().T"
   ]
  },
  {
   "cell_type": "code",
   "execution_count": null,
   "metadata": {},
   "outputs": [],
   "source": [
    "jberg_pop = sa_pop_csv.loc[ (sa_pop_csv['Lat'].between(left = -26.2,\n",
    "                                                       right = -26.1)) &\\\n",
    "                            (sa_pop_csv['Lon'].between(left = 27.9,\n",
    "                                                         right = 28.1))]\n",
    "jberg_pop.to_csv(path_or_buf = './Data/Jberg_FB_pop_density.csv',\n",
    "                 index = False)"
   ]
  },
  {
   "cell_type": "code",
   "execution_count": null,
   "metadata": {},
   "outputs": [],
   "source": [
    "sns.distplot(a = jberg_pop['Population'],\n",
    "             bins = 200)"
   ]
  },
  {
   "cell_type": "code",
   "execution_count": null,
   "metadata": {},
   "outputs": [],
   "source": [
    "jberg_pop_truncated = jberg_pop.loc[jberg_pop['Population'] >= 1.05 * jberg_pop['Population'].min()]"
   ]
  },
  {
   "cell_type": "code",
   "execution_count": null,
   "metadata": {},
   "outputs": [],
   "source": [
    "jberg_pop_truncated.describe().T"
   ]
  },
  {
   "cell_type": "code",
   "execution_count": null,
   "metadata": {},
   "outputs": [],
   "source": [
    "jberg_pop_scaler = StandardScaler()\n",
    "jberg_pop_scaler.fit(X = jberg_pop_truncated)\n",
    "jberg_pop_scaled = pd.DataFrame(data = jberg_pop_scaler.transform(X = jberg_pop_truncated),\n",
    "                                columns = jberg_pop_truncated.columns,\n",
    "                                index = jberg_pop_truncated.index)\n",
    "jberg_pop_scaled.describe().T"
   ]
  },
  {
   "cell_type": "code",
   "execution_count": null,
   "metadata": {},
   "outputs": [],
   "source": [
    "jberg_pop_dbscan = DBSCAN(eps = 0.1,\n",
    "                          min_samples = 50 )\n",
    "jberg_pop_dbscan.fit(jberg_pop_scaled)"
   ]
  },
  {
   "cell_type": "code",
   "execution_count": null,
   "metadata": {},
   "outputs": [],
   "source": [
    "set(jberg_pop_dbscan.labels_)"
   ]
  },
  {
   "cell_type": "code",
   "execution_count": null,
   "metadata": {},
   "outputs": [],
   "source": [
    "np.random.seed(25)\n",
    "color_map = dict(zip(set(jberg_pop_dbscan.labels_),\n",
    "                     cm.get_cmap('twilight_shifted', len(set(jberg_pop_dbscan.labels_))).colors))\n",
    "\n",
    "color_map_index_shuffled = dict(zip(color_map.keys(),\n",
    "                                    np.random.choice(a = list(color_map.keys()),\n",
    "                                                     size = len(color_map),\n",
    "                                                     replace = False)))\n",
    "color_map.update({color_map_index_shuffled.get(key) : color_map.get(key)\n",
    "                     for key in color_map.keys()})\n",
    "\n",
    "color_map.update({idx : np.concatenate((color_map.get(idx)[:-1], np.array([0])))\n",
    "                         for idx in {-1, 0}})"
   ]
  },
  {
   "cell_type": "code",
   "execution_count": null,
   "metadata": {},
   "outputs": [],
   "source": [
    "plt.figure(figsize = (12,9))\n",
    "plt.scatter(jberg_pop_truncated['Lat'],\n",
    "            jberg_pop_truncated['Lon'],\n",
    "            color = pd.Series(data = jberg_pop_dbscan.labels_).map(color_map),\n",
    "            s = 1)"
   ]
  },
  {
   "cell_type": "code",
   "execution_count": null,
   "metadata": {},
   "outputs": [],
   "source": [
    "sa_pop_centriods =\\\n",
    "fct.reduce(lambda Ξ, Ζ : pd.merge(left = Ξ,\n",
    "                                  right = Ζ,\n",
    "                                  left_index = True,\n",
    "                                  right_index = True),\n",
    "                        [jberg_pop_truncated.assign(clusters = jberg_pop_dbscan.labels_)\\\n",
    "                                           [['Lat', 'Lon', 'clusters']]\\\n",
    "                                           .groupby(by = 'clusters',\n",
    "                                                    as_index = True)\\\n",
    "                                           .mean()\\\n",
    "                                           .rename(columns = {'Lat' : 'μ_λ',\n",
    "                                                              'Lon' : 'μ_L'}),\n",
    "                        jberg_pop_truncated.assign(clusters = jberg_pop_dbscan.labels_)\\\n",
    "                                           [['Lat', 'Lon', 'clusters']]\\\n",
    "                                           .groupby(by = 'clusters',\n",
    "                                                    as_index = True)\\\n",
    "                                           .std()\\\n",
    "                                           .rename(columns = {'Lat' : 'σ_λ',\n",
    "                                                              'Lon' : 'σ_L'}),\n",
    "                        jberg_pop_truncated.assign(clusters = jberg_pop_dbscan.labels_)\\\n",
    "                                           [['Lat', 'Lon', 'clusters']]\\\n",
    "                                           .groupby(by = 'clusters',\n",
    "                                                    as_index = True)\\\n",
    "                                           .min()\\\n",
    "                                           .rename(columns = {'Lat' : 'min{λ}',\n",
    "                                                              'Lon' : 'min{L}'}),\n",
    "                        jberg_pop_truncated.assign(clusters = jberg_pop_dbscan.labels_)\\\n",
    "                                           [['Population', 'clusters']]\\\n",
    "                                           .groupby(by = 'clusters',\n",
    "                                                    as_index = True)\\\n",
    "                                           .sum()\\\n",
    "                                           .rename(columns = {'Lat' : 'σ_λ',\n",
    "                                                              'Lon' : 'σ_L'}),\n",
    "                        jberg_pop_truncated.assign(clusters = jberg_pop_dbscan.labels_,\n",
    "                                                   pixel_count = 1)\\\n",
    "                                           [['clusters', 'pixel_count']]\\\n",
    "                                           .groupby(by = 'clusters',\n",
    "                                                    as_index = True)\\\n",
    "                                           .count()])#.drop(labels = [-1, 0])\n",
    "\n",
    "sa_pop_centriods"
   ]
  },
  {
   "cell_type": "code",
   "execution_count": null,
   "metadata": {},
   "outputs": [],
   "source": [
    "\n",
    "jberg_plot_clust = jberg_pop_truncated.assign(clusters = jberg_pop_dbscan.labels_)\\\n",
    "                                      .set_index(keys = 'clusters')\n",
    "jberg_plot_clust"
   ]
  },
  {
   "cell_type": "code",
   "execution_count": null,
   "metadata": {},
   "outputs": [],
   "source": [
    "{pop_clust : jberg_pop_truncated.assign(clusters = jberg_pop_dbscan.labels_)\\\n",
    "                                 .set_index(keys = 'clusters')\\\n",
    "                                 .loc[pop_clust, ['Lat', 'Lon']]\\\n",
    "                                 .corr()\n",
    "    for pop_clust in jberg_pop_dbscan.labels_\n",
    "    if pop_clust not in {-1, 0}}"
   ]
  },
  {
   "cell_type": "code",
   "execution_count": null,
   "metadata": {},
   "outputs": [],
   "source": [
    "fig, axes = plt.subplots(int(np.ceil(mt.sqrt(len(set(jberg_pop_dbscan.labels_))))),\n",
    "                         int(np.ceil(mt.sqrt(len(set(jberg_pop_dbscan.labels_))))),\n",
    "                         figsize = (20,20))\n",
    "plt_axis = dict(enumerate(np.ndarray.flatten(axes)))\n",
    "clusters = dict(enumerate(set(jberg_pop_dbscan.labels_)))\n",
    "for clust in clusters.keys():\n",
    "    sns.regplot(data = jberg_plot_clust.loc[clusters.get(clust)],\n",
    "                x = 'Lon',\n",
    "                y = 'Lat',\n",
    "                lowess = True,\n",
    "                ax = plt_axis.get(clust))\n",
    "    plt_axis.get(clust).set_title(label = f'Population cluster {clusters.get(clust)}')\n",
    "    \n",
    "fig.subplots_adjust(wspace = 0.45)\n",
    "fig.subplots_adjust(hspace = 0.25)"
   ]
  },
  {
   "cell_type": "code",
   "execution_count": null,
   "metadata": {},
   "outputs": [],
   "source": []
  }
 ],
 "metadata": {
  "kernelspec": {
   "display_name": "Python 3",
   "language": "python",
   "name": "python3"
  },
  "language_info": {
   "codemirror_mode": {
    "name": "ipython",
    "version": 3
   },
   "file_extension": ".py",
   "mimetype": "text/x-python",
   "name": "python",
   "nbconvert_exporter": "python",
   "pygments_lexer": "ipython3",
   "version": "3.7.4"
  }
 },
 "nbformat": 4,
 "nbformat_minor": 2
}
