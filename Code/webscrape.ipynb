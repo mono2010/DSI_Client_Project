{
 "cells": [
  {
   "cell_type": "code",
   "execution_count": 1,
   "metadata": {},
   "outputs": [],
   "source": [
    "import pandas as pd\n",
    "import requests, re\n",
    "from bs4 import BeautifulSoup"
   ]
  },
  {
   "cell_type": "code",
   "execution_count": 2,
   "metadata": {},
   "outputs": [],
   "source": [
    "url = 'http://www.statssa.gov.za/?page_id=993&id=city-of-johannesburg-municipality' # base url\n",
    "res = requests.get(url) # request\n",
    "soup = BeautifulSoup(res.content, 'lxml') # beautiful soup"
   ]
  },
  {
   "cell_type": "code",
   "execution_count": 3,
   "metadata": {},
   "outputs": [],
   "source": [
    "lir = soup.find_all('li') # list of the cities"
   ]
  },
  {
   "cell_type": "code",
   "execution_count": 4,
   "metadata": {},
   "outputs": [],
   "source": [
    "city = pd.read_csv('Data/localities.csv') # read csv\n",
    "city = list(city['City']) # list of cities"
   ]
  },
  {
   "cell_type": "code",
   "execution_count": 5,
   "metadata": {},
   "outputs": [],
   "source": [
    "cities = [] # empty list\n",
    "for i in lir:  # extracting url structure\n",
    "    dict = {}\n",
    "    if len(re.findall('(?<=a href=\")\\?\\w+\\W+\\d+\\W+\\w+\\W+\\w+\\W+\\d+(?=\">)',str(i.contents))) > 0:\n",
    "        dict['href'] = re.findall('(?<=a href=\")\\?\\w+\\W+\\d+\\W+\\w+\\W+\\w+\\W+\\d+(?=\">)',str(i.contents))\n",
    "        cities.append(dict)\n",
    "    else:\n",
    "        None"
   ]
  },
  {
   "cell_type": "code",
   "execution_count": 6,
   "metadata": {},
   "outputs": [],
   "source": [
    "for i in range(len(cities)): # cleaning up url\n",
    "    cities[i-1]['href'][0] = cities[i-1]['href'][0].replace('amp;', '')"
   ]
  },
  {
   "cell_type": "code",
   "execution_count": 7,
   "metadata": {},
   "outputs": [],
   "source": [
    "# example page 'http://www.statssa.gov.za/?page_id=4286&id=11305'\n",
    "\n",
    "click_url = {} # list of cleaned urls\n",
    "for i in range(len(cities)):\n",
    "    click_url[i] = f\"http://www.statssa.gov.za/{cities[i]['href'][0]}\""
   ]
  },
  {
   "cell_type": "code",
   "execution_count": 8,
   "metadata": {},
   "outputs": [],
   "source": [
    "city_master = [] # empty list of city data\n",
    "    \n",
    "for y in range(len(city)-1): # loop through all cities\n",
    "\n",
    "    citi = []\n",
    "\n",
    "    res = requests.get(click_url[y])\n",
    "    soup = BeautifulSoup(res.content, 'lxml')\n",
    "    tdr = soup.find_all('td')\n",
    "\n",
    "    stats = []\n",
    "\n",
    "    for x in tdr: # going through all the elements\n",
    "        dict1 = {}\n",
    "        dict1['element'] = x.text\n",
    "        stats.append(dict1)\n",
    "\n",
    "    for i in range(len(stats)-1):\n",
    "\n",
    "        dict2 = {}\n",
    "\n",
    "        if stats[i]['element'] == 'Total population':  # filtering data\n",
    "            dict2['Total population'] = stats[i+1]['element']\n",
    "            citi.append(dict2)\n",
    "        if stats[i]['element'] == 'Young (0-14)':\n",
    "            dict2['Young (0-14)'] = stats[i+1]['element']\n",
    "            citi.append(dict2)\n",
    "        if stats[i]['element'] == 'Working Age (15-64)':\n",
    "            dict2['Working Age (15-64)'] = stats[i+1]['element']\n",
    "            citi.append(dict2)\n",
    "        if stats[i]['element'] == 'Elderly (65+)':\n",
    "            dict2['Elderly (65+)'] = stats[i+1]['element']\n",
    "            citi.append(dict2)\n",
    "        if stats[i]['element'] == 'Dependency ratio':\n",
    "            dict2['Dependency ratio'] = stats[i+1]['element']\n",
    "            citi.append(dict2)\n",
    "        if stats[i]['element'] == 'Sex ratio':\n",
    "            dict2['Sex ratio'] = stats[i+1]['element']\n",
    "            citi.append(dict2)\n",
    "        if stats[i]['element'] == 'Population density':\n",
    "            dict2['Population density'] = stats[i+1]['element']\n",
    "            citi.append(dict2)\n",
    "        if stats[i]['element'] == 'No schooling aged 20+':\n",
    "            dict2['No schooling aged 20+'] = stats[i+1]['element']\n",
    "            citi.append(dict2)\n",
    "        if stats[i]['element'] == 'Higher education aged 20+':\n",
    "            dict2['Higher education aged 20+'] = stats[i+1]['element']\n",
    "            citi.append(dict2)\n",
    "        if stats[i]['element'] == 'Matric aged 20+':\n",
    "            dict2['Matric aged 20+'] = stats[i+1]['element']\n",
    "            citi.append(dict2)\n",
    "        if stats[i]['element'] == 'Number of households':\n",
    "            dict2['Number of households'] = stats[i+1]['element']\n",
    "            citi.append(dict2)\n",
    "        if stats[i]['element'] == 'Average household size':\n",
    "            dict2['Average household size'] = stats[i+1]['element']\n",
    "            citi.append(dict2)\n",
    "        if stats[i]['element'] == 'Female headed households':\n",
    "            dict2['Female headed households'] = stats[i+1]['element']\n",
    "            citi.append(dict2)\n",
    "        if stats[i]['element'] == 'Housing owned/paying off':\n",
    "            dict2['Housing owned/paying off'] = stats[i+1]['element']\n",
    "            citi.append(dict2)\n",
    "        if stats[i]['element'] == 'Flush toilet connected to sewerage':\n",
    "            dict2['Flush toilet connected to sewerage'] = stats[i+1]['element']\n",
    "            citi.append(dict2)\n",
    "        if stats[i]['element'] == 'Weekly refuse removal':\n",
    "            dict2['Weekly refuse removal'] = stats[i+1]['element']\n",
    "            citi.append(dict2)\n",
    "        if stats[i]['element'] == 'Piped water inside dwelling':\n",
    "            dict2['Piped water inside dwelling'] = stats[i+1]['element']\n",
    "            citi.append(dict2)\n",
    "        if stats[i]['element'] == 'Electricity for lighting':\n",
    "            dict2['Electricity for lighting'] = stats[i+1]['element']\n",
    "            citi.append(dict2)\n",
    "\n",
    "        dict = {city[y] : citi} # adding data to dictionary\n",
    "    city_master.append(dict) # append to final dictionary"
   ]
  },
  {
   "cell_type": "code",
   "execution_count": 10,
   "metadata": {},
   "outputs": [],
   "source": [
    "columns = list(pd.DataFrame(city_master[0][city[0]]).columns)"
   ]
  },
  {
   "cell_type": "code",
   "execution_count": 81,
   "metadata": {},
   "outputs": [
    {
     "data": {
      "text/plain": [
       "['Total population',\n",
       " 'Young (0-14)',\n",
       " 'Working Age (15-64)',\n",
       " 'Elderly (65+)',\n",
       " 'Dependency ratio',\n",
       " 'Sex ratio',\n",
       " 'Population density',\n",
       " 'No schooling aged 20+',\n",
       " 'Higher education aged 20+',\n",
       " 'Matric aged 20+',\n",
       " 'Number of households',\n",
       " 'Average household size',\n",
       " 'Female headed households',\n",
       " 'Housing owned/paying off',\n",
       " 'Flush toilet connected to sewerage',\n",
       " 'Weekly refuse removal',\n",
       " 'Piped water inside dwelling',\n",
       " 'Electricity for lighting']"
      ]
     },
     "execution_count": 81,
     "metadata": {},
     "output_type": "execute_result"
    }
   ],
   "source": [
    "columns"
   ]
  },
  {
   "cell_type": "code",
   "execution_count": 192,
   "metadata": {},
   "outputs": [
    {
     "data": {
      "text/html": [
       "<div>\n",
       "<style scoped>\n",
       "    .dataframe tbody tr th:only-of-type {\n",
       "        vertical-align: middle;\n",
       "    }\n",
       "\n",
       "    .dataframe tbody tr th {\n",
       "        vertical-align: top;\n",
       "    }\n",
       "\n",
       "    .dataframe thead th {\n",
       "        text-align: right;\n",
       "    }\n",
       "</style>\n",
       "<table border=\"1\" class=\"dataframe\">\n",
       "  <thead>\n",
       "    <tr style=\"text-align: right;\">\n",
       "      <th></th>\n",
       "      <th>city</th>\n",
       "    </tr>\n",
       "  </thead>\n",
       "  <tbody>\n",
       "    <tr>\n",
       "      <th>0</th>\n",
       "      <td>Alexandra</td>\n",
       "    </tr>\n",
       "    <tr>\n",
       "      <th>1</th>\n",
       "      <td>Chartwell</td>\n",
       "    </tr>\n",
       "    <tr>\n",
       "      <th>2</th>\n",
       "      <td>City of Johannesburg NU</td>\n",
       "    </tr>\n",
       "    <tr>\n",
       "      <th>3</th>\n",
       "      <td>Dainfern</td>\n",
       "    </tr>\n",
       "    <tr>\n",
       "      <th>4</th>\n",
       "      <td>Diepsloot</td>\n",
       "    </tr>\n",
       "    <tr>\n",
       "      <th>5</th>\n",
       "      <td>Drie Ziek</td>\n",
       "    </tr>\n",
       "    <tr>\n",
       "      <th>6</th>\n",
       "      <td>Ebony Park</td>\n",
       "    </tr>\n",
       "    <tr>\n",
       "      <th>7</th>\n",
       "      <td>Ennerdale</td>\n",
       "    </tr>\n",
       "    <tr>\n",
       "      <th>8</th>\n",
       "      <td>Farmall</td>\n",
       "    </tr>\n",
       "    <tr>\n",
       "      <th>9</th>\n",
       "      <td>Itsoseng</td>\n",
       "    </tr>\n",
       "    <tr>\n",
       "      <th>10</th>\n",
       "      <td>Ivory Park</td>\n",
       "    </tr>\n",
       "    <tr>\n",
       "      <th>11</th>\n",
       "      <td>Johannesburg</td>\n",
       "    </tr>\n",
       "    <tr>\n",
       "      <th>12</th>\n",
       "      <td>Kaalfontein</td>\n",
       "    </tr>\n",
       "    <tr>\n",
       "      <th>13</th>\n",
       "      <td>Kagiso</td>\n",
       "    </tr>\n",
       "    <tr>\n",
       "      <th>14</th>\n",
       "      <td>Kanana Park</td>\n",
       "    </tr>\n",
       "    <tr>\n",
       "      <th>15</th>\n",
       "      <td>Lakeside</td>\n",
       "    </tr>\n",
       "    <tr>\n",
       "      <th>16</th>\n",
       "      <td>Lanseria</td>\n",
       "    </tr>\n",
       "    <tr>\n",
       "      <th>17</th>\n",
       "      <td>Lawley</td>\n",
       "    </tr>\n",
       "    <tr>\n",
       "      <th>18</th>\n",
       "      <td>Lehae</td>\n",
       "    </tr>\n",
       "    <tr>\n",
       "      <th>19</th>\n",
       "      <td>Lenasia</td>\n",
       "    </tr>\n",
       "    <tr>\n",
       "      <th>20</th>\n",
       "      <td>Lenasia South</td>\n",
       "    </tr>\n",
       "    <tr>\n",
       "      <th>21</th>\n",
       "      <td>Lucky 7</td>\n",
       "    </tr>\n",
       "    <tr>\n",
       "      <th>22</th>\n",
       "      <td>Malatjie</td>\n",
       "    </tr>\n",
       "    <tr>\n",
       "      <th>23</th>\n",
       "      <td>Mayibuye</td>\n",
       "    </tr>\n",
       "    <tr>\n",
       "      <th>24</th>\n",
       "      <td>Midrand</td>\n",
       "    </tr>\n",
       "    <tr>\n",
       "      <th>25</th>\n",
       "      <td>Millgate Farm</td>\n",
       "    </tr>\n",
       "    <tr>\n",
       "      <th>26</th>\n",
       "      <td>Orange Farm</td>\n",
       "    </tr>\n",
       "    <tr>\n",
       "      <th>27</th>\n",
       "      <td>Poortjie</td>\n",
       "    </tr>\n",
       "    <tr>\n",
       "      <th>28</th>\n",
       "      <td>Rabie Ridge</td>\n",
       "    </tr>\n",
       "    <tr>\n",
       "      <th>29</th>\n",
       "      <td>Randburg</td>\n",
       "    </tr>\n",
       "    <tr>\n",
       "      <th>30</th>\n",
       "      <td>Randfontein</td>\n",
       "    </tr>\n",
       "    <tr>\n",
       "      <th>31</th>\n",
       "      <td>Rietfontein</td>\n",
       "    </tr>\n",
       "    <tr>\n",
       "      <th>32</th>\n",
       "      <td>Roodepoort</td>\n",
       "    </tr>\n",
       "    <tr>\n",
       "      <th>33</th>\n",
       "      <td>Sandton</td>\n",
       "    </tr>\n",
       "    <tr>\n",
       "      <th>34</th>\n",
       "      <td>Soweto</td>\n",
       "    </tr>\n",
       "    <tr>\n",
       "      <th>35</th>\n",
       "      <td>Stretford</td>\n",
       "    </tr>\n",
       "    <tr>\n",
       "      <th>36</th>\n",
       "      <td>Tshepisong</td>\n",
       "    </tr>\n",
       "    <tr>\n",
       "      <th>37</th>\n",
       "      <td>Vlakfontein</td>\n",
       "    </tr>\n",
       "  </tbody>\n",
       "</table>\n",
       "</div>"
      ],
      "text/plain": [
       "                       city\n",
       "0                 Alexandra\n",
       "1                 Chartwell\n",
       "2   City of Johannesburg NU\n",
       "3                  Dainfern\n",
       "4                 Diepsloot\n",
       "5                 Drie Ziek\n",
       "6                Ebony Park\n",
       "7                 Ennerdale\n",
       "8                   Farmall\n",
       "9                  Itsoseng\n",
       "10               Ivory Park\n",
       "11             Johannesburg\n",
       "12              Kaalfontein\n",
       "13                   Kagiso\n",
       "14              Kanana Park\n",
       "15                 Lakeside\n",
       "16                 Lanseria\n",
       "17                   Lawley\n",
       "18                    Lehae\n",
       "19                  Lenasia\n",
       "20            Lenasia South\n",
       "21                  Lucky 7\n",
       "22                 Malatjie\n",
       "23                 Mayibuye\n",
       "24                  Midrand\n",
       "25            Millgate Farm\n",
       "26              Orange Farm\n",
       "27                 Poortjie\n",
       "28              Rabie Ridge\n",
       "29                 Randburg\n",
       "30              Randfontein\n",
       "31              Rietfontein\n",
       "32               Roodepoort\n",
       "33                  Sandton\n",
       "34                   Soweto\n",
       "35                Stretford\n",
       "36               Tshepisong\n",
       "37              Vlakfontein"
      ]
     },
     "execution_count": 192,
     "metadata": {},
     "output_type": "execute_result"
    }
   ],
   "source": [
    "df"
   ]
  },
  {
   "cell_type": "code",
   "execution_count": 71,
   "metadata": {},
   "outputs": [],
   "source": [
    "df = []\n",
    "for i in range(len(city_master)-1):\n",
    "    dict = {}\n",
    "    dict['city'] = list(city_master[i])[0]\n",
    "    df.append(dict)\n",
    "df = pd.DataFrame(df)"
   ]
  },
  {
   "cell_type": "code",
   "execution_count": 103,
   "metadata": {},
   "outputs": [],
   "source": [
    "df2 = []\n",
    "for num in range(len(city_master)-1):\n",
    "    dict = {}\n",
    "    dict['total population'] = city_master[num][city[num]][0]['Total population']\n",
    "    df2.append(dict)\n",
    "df2 = pd.DataFrame(df2)"
   ]
  },
  {
   "cell_type": "code",
   "execution_count": 161,
   "metadata": {},
   "outputs": [],
   "source": [
    "df3 = []\n",
    "for num in range(len(city_master)-1):\n",
    "    dict = {}\n",
    "    dict['Young (0-14)'] = city_master[num][city[num]][1]['Young (0-14)']\n",
    "    df3.append(dict)\n",
    "df3 = pd.DataFrame(df3)"
   ]
  },
  {
   "cell_type": "code",
   "execution_count": 154,
   "metadata": {},
   "outputs": [],
   "source": [
    "df4 = []\n",
    "for num in range(len(city_master)-1):\n",
    "    dict = {}\n",
    "    dict['Working Age (15-64)'] = city_master[num][city[num]][2]['Working Age (15-64)']\n",
    "    df4.append(dict)\n",
    "df4 = pd.DataFrame(df4)"
   ]
  },
  {
   "cell_type": "code",
   "execution_count": 157,
   "metadata": {},
   "outputs": [],
   "source": [
    "df5 = []\n",
    "for num in range(len(city_master)-1):\n",
    "    dict = {}\n",
    "    dict['Elderly (65+)'] = city_master[num][city[num]][3]['Elderly (65+)']\n",
    "    df5.append(dict)\n",
    "df5 = pd.DataFrame(df5)"
   ]
  },
  {
   "cell_type": "code",
   "execution_count": 159,
   "metadata": {},
   "outputs": [],
   "source": [
    "df6 = []\n",
    "for num in range(len(city_master)-1):\n",
    "    dict = {}\n",
    "    dict['Dependency ratio'] = city_master[num][city[num]][4]['Dependency ratio']\n",
    "    df6.append(dict)\n",
    "df6 = pd.DataFrame(df6)"
   ]
  },
  {
   "cell_type": "code",
   "execution_count": 163,
   "metadata": {},
   "outputs": [],
   "source": [
    "df7 = []\n",
    "for num in range(len(city_master)-1):\n",
    "    dict = {}\n",
    "    dict['Sex ratio'] = city_master[num][city[num]][5]['Sex ratio']\n",
    "    df7.append(dict)\n",
    "df7 = pd.DataFrame(df7)"
   ]
  },
  {
   "cell_type": "code",
   "execution_count": 166,
   "metadata": {},
   "outputs": [],
   "source": [
    "df8 = []\n",
    "for num in range(len(city_master)-1):\n",
    "    dict = {}\n",
    "    dict['Population density'] = city_master[num][city[num]][6]['Population density']\n",
    "    df8.append(dict)\n",
    "df8 = pd.DataFrame(df8)"
   ]
  },
  {
   "cell_type": "code",
   "execution_count": 168,
   "metadata": {},
   "outputs": [],
   "source": [
    "df9 = []\n",
    "for num in range(len(city_master)-1):\n",
    "    dict = {}\n",
    "    dict['No schooling aged 20+'] = city_master[num][city[num]][7]['No schooling aged 20+']\n",
    "    df9.append(dict)\n",
    "df9 = pd.DataFrame(df9)"
   ]
  },
  {
   "cell_type": "code",
   "execution_count": 170,
   "metadata": {},
   "outputs": [],
   "source": [
    "df10 = []\n",
    "for num in range(len(city_master)-1):\n",
    "    dict = {}\n",
    "    dict['Higher education aged 20+'] = city_master[num][city[num]][8]['Higher education aged 20+']\n",
    "    df10.append(dict)\n",
    "df10 = pd.DataFrame(df10)"
   ]
  },
  {
   "cell_type": "code",
   "execution_count": 172,
   "metadata": {},
   "outputs": [],
   "source": [
    "df11 = []\n",
    "for num in range(len(city_master)-1):\n",
    "    dict = {}\n",
    "    dict['Matric aged 20+'] = city_master[num][city[num]][9]['Matric aged 20+']\n",
    "    df11.append(dict)\n",
    "df11 = pd.DataFrame(df11)"
   ]
  },
  {
   "cell_type": "code",
   "execution_count": 175,
   "metadata": {},
   "outputs": [],
   "source": [
    "df12 = []\n",
    "for num in range(len(city_master)-1):\n",
    "    dict = {}\n",
    "    dict['Number of households'] = city_master[num][city[num]][10]['Number of households']\n",
    "    df12.append(dict)\n",
    "df12 = pd.DataFrame(df12)"
   ]
  },
  {
   "cell_type": "code",
   "execution_count": 177,
   "metadata": {},
   "outputs": [],
   "source": [
    "df13 = []\n",
    "for num in range(len(city_master)-1):\n",
    "    dict = {}\n",
    "    dict['Average household size'] = city_master[num][city[num]][11]['Average household size']\n",
    "    df13.append(dict)\n",
    "df13 = pd.DataFrame(df13)"
   ]
  },
  {
   "cell_type": "code",
   "execution_count": 179,
   "metadata": {},
   "outputs": [],
   "source": [
    "df14 = []\n",
    "for num in range(len(city_master)-1):\n",
    "    dict = {}\n",
    "    dict['Female headed households'] = city_master[num][city[num]][12]['Female headed households']\n",
    "    df14.append(dict)\n",
    "df14 = pd.DataFrame(df14)"
   ]
  },
  {
   "cell_type": "code",
   "execution_count": 181,
   "metadata": {},
   "outputs": [],
   "source": [
    "df15 = []\n",
    "for num in range(len(city_master)-1):\n",
    "    dict = {}\n",
    "    dict['Housing owned/paying off'] = city_master[num][city[num]][13]['Housing owned/paying off']\n",
    "    df15.append(dict)\n",
    "df15 = pd.DataFrame(df15)"
   ]
  },
  {
   "cell_type": "code",
   "execution_count": 183,
   "metadata": {},
   "outputs": [],
   "source": [
    "df16 = []\n",
    "for num in range(len(city_master)-1):\n",
    "    dict = {}\n",
    "    dict['Flush toilet connected to sewerage'] = city_master[num][city[num]][14]['Flush toilet connected to sewerage']\n",
    "    df16.append(dict)\n",
    "df16 = pd.DataFrame(df16)"
   ]
  },
  {
   "cell_type": "code",
   "execution_count": 185,
   "metadata": {},
   "outputs": [],
   "source": [
    "df17 = []\n",
    "for num in range(len(city_master)-1):\n",
    "    dict = {}\n",
    "    dict['Weekly refuse removal'] = city_master[num][city[num]][15]['Weekly refuse removal']\n",
    "    df17.append(dict)\n",
    "df17 = pd.DataFrame(df17)"
   ]
  },
  {
   "cell_type": "code",
   "execution_count": 187,
   "metadata": {},
   "outputs": [],
   "source": [
    "df18 = []\n",
    "for num in range(len(city_master)-1):\n",
    "    dict = {}\n",
    "    dict['Piped water inside dwelling'] = city_master[num][city[num]][16]['Piped water inside dwelling']\n",
    "    df18.append(dict)\n",
    "df18 = pd.DataFrame(df18)"
   ]
  },
  {
   "cell_type": "code",
   "execution_count": 189,
   "metadata": {},
   "outputs": [],
   "source": [
    "df19 = []\n",
    "for num in range(len(city_master)-1):\n",
    "    dict = {}\n",
    "    dict['Electricity for lighting'] = city_master[num][city[num]][17]['Electricity for lighting']\n",
    "    df19.append(dict)\n",
    "df18 = pd.DataFrame(df19)"
   ]
  },
  {
   "cell_type": "code",
   "execution_count": 195,
   "metadata": {},
   "outputs": [],
   "source": [
    "df_final = pd.concat([df, df2, df3, df4, df5, df6, df7, df8, df9, df10, df11, df12, df13, df14, df15, df16, df17, df18], axis = 1)"
   ]
  },
  {
   "cell_type": "code",
   "execution_count": 199,
   "metadata": {},
   "outputs": [],
   "source": [
    "df_final.to_csv('output.csv', index = False)"
   ]
  }
 ],
 "metadata": {
  "kernelspec": {
   "display_name": "Python [conda env:dsi]",
   "language": "python",
   "name": "conda-env-dsi-py"
  },
  "language_info": {
   "codemirror_mode": {
    "name": "ipython",
    "version": 3
   },
   "file_extension": ".py",
   "mimetype": "text/x-python",
   "name": "python",
   "nbconvert_exporter": "python",
   "pygments_lexer": "ipython3",
   "version": "3.7.6"
  }
 },
 "nbformat": 4,
 "nbformat_minor": 4
}
